{
 "cells": [
  {
   "cell_type": "code",
   "execution_count": null,
   "metadata": {},
   "outputs": [],
   "source": [
    "import pandas as pd\n",
    "import numpy as np\n",
    "pd.options.display.max_rows=1000\n",
    "pd.options.display.max_columns=1000\n",
    "from multiprocessing import Pool\n",
    "import datetime"
   ]
  },
  {
   "cell_type": "code",
   "execution_count": null,
   "metadata": {},
   "outputs": [],
   "source": [
    "train=pd.read_csv('../train.csv')\n",
    "test=pd.read_csv('../test_QyjYwdj.csv')\n",
    "item=pd.read_csv('../item_data.csv')\n",
    "transaction=pd.read_csv('../customer_transaction_data.csv')\n",
    "coupon_item_mapping=pd.read_csv('../coupon_item_mapping.csv')\n",
    "camp=pd.read_csv('../campaign_data.csv')\n",
    "camp.start_date=pd.to_datetime(camp.start_date,format='%d/%m/%y')\n",
    "camp.end_date=pd.to_datetime(camp.end_date,format='%d/%m/%y')\n",
    "camp.sort_values('start_date',inplace=True)\n",
    "df=pd.concat((train.iloc[:,:-1],test),axis=0)\n",
    "df=df.merge(camp,on='campaign_id',how='left')\n",
    "transaction.date=pd.to_datetime(transaction.date)"
   ]
  },
  {
   "cell_type": "code",
   "execution_count": null,
   "metadata": {},
   "outputs": [],
   "source": [
    "temp=df[['customer_id','coupon_id','start_date','id','end_date']]\n",
    "temp['cut_off_date']=pd.to_datetime(df.start_date) -datetime.timedelta(150)"
   ]
  },
  {
   "cell_type": "code",
   "execution_count": null,
   "metadata": {},
   "outputs": [],
   "source": [
    "transaction=transaction.drop_duplicates()"
   ]
  },
  {
   "cell_type": "code",
   "execution_count": null,
   "metadata": {},
   "outputs": [],
   "source": [
    "transaction.head()"
   ]
  },
  {
   "cell_type": "code",
   "execution_count": null,
   "metadata": {},
   "outputs": [],
   "source": [
    "def get_feat(row):\n",
    "    data_=row[1]\n",
    "    temp=transaction[(transaction.item_id.isin(coupon_item_mapping[coupon_item_mapping.coupon_id==data_['coupon_id']].item_id))\\\n",
    "               &(transaction.date<data_['start_date'])]    \n",
    "    \n",
    "    if temp.shape[0]>0:\n",
    "        a=temp['coupon_discount']/temp['selling_price']\n",
    "        feats=[data_.id]+[temp.shape[0],   sum(temp['coupon_discount']<0),  sum(temp['coupon_discount']<0)/temp.shape[0],\\\n",
    "                          temp['coupon_discount'].sum(),temp['selling_price'].sum(),\n",
    "                          \n",
    "                          temp['coupon_discount'].mean(),temp['selling_price'].mean(),temp['other_discount'].sum(),\\\n",
    "                          temp['other_discount'].mean(),a.mean(),a.sum() \n",
    "                         ]\n",
    "    else:\n",
    "        feats=[data_.id]+np.repeat(0,11).tolist()\n",
    "    return feats"
   ]
  },
  {
   "cell_type": "code",
   "execution_count": null,
   "metadata": {},
   "outputs": [],
   "source": [
    "%%time\n",
    "try:\n",
    "    pool = Pool(16) \n",
    "    data_outputs = pool.map(get_feat, temp.iterrows())\n",
    "finally: \n",
    "    pool.close()\n",
    "    pool.join()"
   ]
  },
  {
   "cell_type": "code",
   "execution_count": null,
   "metadata": {},
   "outputs": [],
   "source": [
    "cols=['id','num_bought_coup','num_discount_availed_coup','frac_discount_availed_coup','sum_discount_coup',\n",
    "'selling_price_sum_coup',\n",
    "'coupon_discount_mean_coup','selling_price_mean_coup','other_discount_sum_coup',\n",
    "      'other_discount_mean_coup','cd_sp_ratio_mean_coup','cd_sp_ratio_sum_coup'\n",
    "     ]\n",
    "# cols=['id','num_bought_coup_end_date','num_discount_availed_coup_end_date','frac_discount_availed_coup_end_date',\n",
    "#       'sum_discount_coup_end_date','selling_price_sum_coup_end_date']\n",
    "feat_df=pd.DataFrame(np.row_stack(data_outputs),columns=cols)"
   ]
  },
  {
   "cell_type": "code",
   "execution_count": null,
   "metadata": {},
   "outputs": [],
   "source": [
    "feat_df.head()"
   ]
  },
  {
   "cell_type": "code",
   "execution_count": null,
   "metadata": {},
   "outputs": [],
   "source": [
    "feat_df.to_csv('../coupon_item_feats_no_lag_v2.csv',index=False)"
   ]
  },
  {
   "cell_type": "code",
   "execution_count": null,
   "metadata": {},
   "outputs": [],
   "source": [
    "def get_feat(row):\n",
    "    data_=row[1]\n",
    "#     temp=transaction[(transaction.customer_id==data_['customer_id'])&\\\n",
    "#                          (transaction.item_id.isin(coupon_item_mapping[coupon_item_mapping.coupon_id==data_['coupon_id']].item_id))\\\n",
    "#                &(transaction.date<data_['start_date'])]\n",
    "\n",
    "    temp=transaction[(transaction.customer_id==data_['customer_id'])&\\\n",
    "                         (transaction.item_id.isin(coupon_item_mapping[coupon_item_mapping.coupon_id==data_['coupon_id']].item_id))\\\n",
    "               &(transaction.date<data_['start_date'])]\n",
    "    \n",
    "    \n",
    "    if temp.shape[0]>0:\n",
    "        a=temp['coupon_discount']/temp['selling_price']\n",
    "        feats=[data_.id]+[temp.shape[0],   sum(temp['coupon_discount']<0),  sum(temp['coupon_discount']<0)/temp.shape[0],\\\n",
    "                          temp['coupon_discount'].sum(),temp['selling_price'].sum(),\n",
    "                          \n",
    "                          temp['coupon_discount'].mean(),temp['selling_price'].mean(),temp['other_discount'].sum(),\\\n",
    "                          temp['other_discount'].mean(),a.mean(),a.sum() \n",
    "                         ]\n",
    "    else:\n",
    "        feats=[data_.id]+np.repeat(0,11).tolist()\n",
    "    return feats"
   ]
  },
  {
   "cell_type": "code",
   "execution_count": null,
   "metadata": {},
   "outputs": [],
   "source": [
    "# cols=['id','num_bought','num_discount_availed','frac_discount_availed','sum_discount','selling_price_sum']\n",
    "cols=['id','num_bought','num_discount_availed','frac_discount_availed','sum_discount',\n",
    "'selling_price_sum',\n",
    "'coupon_discount_mean','selling_price_mean','other_discount_sum',\n",
    "      'other_discount_mean','cd_sp_ratio_mean','cd_sp_ratio_sum'\n",
    "     ]"
   ]
  },
  {
   "cell_type": "code",
   "execution_count": null,
   "metadata": {
    "scrolled": true
   },
   "outputs": [],
   "source": [
    "%%time\n",
    "try:\n",
    "    pool = Pool(16) \n",
    "    data_outputs = pool.map(get_feat, temp.iterrows())\n",
    "finally: \n",
    "    pool.close()\n",
    "    pool.join()"
   ]
  },
  {
   "cell_type": "code",
   "execution_count": null,
   "metadata": {},
   "outputs": [],
   "source": [
    "len(data_outputs)"
   ]
  },
  {
   "cell_type": "code",
   "execution_count": null,
   "metadata": {
    "scrolled": true
   },
   "outputs": [],
   "source": [
    "feat_df=pd.DataFrame(np.row_stack(data_outputs),columns=cols)"
   ]
  },
  {
   "cell_type": "code",
   "execution_count": null,
   "metadata": {},
   "outputs": [],
   "source": [
    "feat_df.to_csv('../feats_user_coup_item_no_lag_v2.csv',index=False)"
   ]
  },
  {
   "cell_type": "code",
   "execution_count": null,
   "metadata": {},
   "outputs": [],
   "source": [
    "camp_cust=df.groupby(['campaign_id','customer_id'])['coupon_id'].unique().reset_index()"
   ]
  },
  {
   "cell_type": "code",
   "execution_count": null,
   "metadata": {},
   "outputs": [],
   "source": [
    "camp_cust=camp_cust.merge(camp,on='campaign_id')"
   ]
  },
  {
   "cell_type": "code",
   "execution_count": null,
   "metadata": {},
   "outputs": [],
   "source": [
    "%%time\n",
    "def get_feat(row):\n",
    "    data_=row[1]\n",
    "    temp=transaction[(transaction.customer_id==data_['customer_id'])&\\\n",
    "                             (transaction.item_id.isin(coupon_item_mapping[coupon_item_mapping.coupon_id.isin(data_['coupon_id'])].item_id))\\\n",
    "                   &(transaction.date<data_['start_date'])]\n",
    "\n",
    "    if temp.shape[0]>0:\n",
    "        a=temp['coupon_discount']/temp['selling_price']\n",
    "        feats=[data_['campaign_id'],data_['customer_id']]+[temp.shape[0],   sum(temp['coupon_discount']<0),  sum(temp['coupon_discount']<0)/temp.shape[0],\\\n",
    "                          temp['coupon_discount'].sum(),temp['selling_price'].sum(),\n",
    "                          \n",
    "                          temp['coupon_discount'].mean(),temp['selling_price'].mean(),temp['other_discount'].sum(),\\\n",
    "                          temp['other_discount'].mean(),a.mean(),a.sum() \n",
    "                         ]\n",
    "    else:\n",
    "        feats=[data_['campaign_id'],data_['customer_id']]+np.repeat(0,11).tolist()\n",
    "\n",
    "    return feats\n",
    "try:\n",
    "    pool = Pool(16) \n",
    "    data_outputs = pool.map(get_feat, camp_cust.iterrows())\n",
    "finally: \n",
    "    pool.close()\n",
    "    pool.join()\n",
    "    \n",
    "cols=['campaign_id','customer_id','num_bought_camp_cust','num_discount_availed_camp_cust','frac_discount_availed_camp_cust','sum_discount_camp_cust',\n",
    "'selling_price_sum_camp_cust',\n",
    "'coupon_discount_mean_camp_cust','selling_price_mean_camp_cust','other_discount_sum_camp_cust',\n",
    "      'other_discount_mean_camp_cust','cd_sp_ratio_mean_camp_cust','cd_sp_ratio_sum_camp_cust'\n",
    "     ]\n",
    "\n",
    "camp_cust_hist=pd.DataFrame(np.row_stack(data_outputs),columns=cols)"
   ]
  },
  {
   "cell_type": "code",
   "execution_count": null,
   "metadata": {},
   "outputs": [],
   "source": [
    "camp_cust_hist.to_csv('../camp_cust_feats_v2.csv',index=False)"
   ]
  },
  {
   "cell_type": "code",
   "execution_count": null,
   "metadata": {},
   "outputs": [],
   "source": [
    "a=pd.read_csv('../feats_user_coup_item_no_lag_v2.csv')"
   ]
  },
  {
   "cell_type": "code",
   "execution_count": null,
   "metadata": {},
   "outputs": [],
   "source": [
    "b=pd.read_csv('../../av_amex/feats_user_coup_item_no_lag_v2.csv')"
   ]
  }
 ],
 "metadata": {
  "kernelspec": {
   "display_name": "Python 3",
   "language": "python",
   "name": "python3"
  },
  "language_info": {
   "codemirror_mode": {
    "name": "ipython",
    "version": 3
   },
   "file_extension": ".py",
   "mimetype": "text/x-python",
   "name": "python",
   "nbconvert_exporter": "python",
   "pygments_lexer": "ipython3",
   "version": "3.5.2"
  }
 },
 "nbformat": 4,
 "nbformat_minor": 2
}
