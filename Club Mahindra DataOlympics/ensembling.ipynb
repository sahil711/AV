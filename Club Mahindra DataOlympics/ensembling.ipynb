{
 "cells": [
  {
   "cell_type": "code",
   "execution_count": 1,
   "metadata": {},
   "outputs": [],
   "source": [
    "%load_ext autoreload\n",
    "%autoreload 2\n",
    "\n",
    "import pandas as pd\n",
    "import numpy as np\n",
    "from matplotlib import pyplot as plt\n",
    "%matplotlib inline\n",
    "pd.options.display.max_columns=100\n",
    "pd.options.display.max_rows=100\n",
    "from encoding import FreqeuncyEncoding\n",
    "from custom_estimator_regressor import Estimator\n",
    "from lightgbm import LGBMRegressor\n",
    "from xgboost import XGBRegressor\n",
    "from sklearn.externals import joblib\n",
    "import datetime"
   ]
  },
  {
   "cell_type": "code",
   "execution_count": 10,
   "metadata": {},
   "outputs": [
    {
     "data": {
      "text/plain": [
       "'1.16.2'"
      ]
     },
     "execution_count": 10,
     "metadata": {},
     "output_type": "execute_result"
    }
   ],
   "source": [
    "import numpy\n",
    "numpy.__version__"
   ]
  },
  {
   "cell_type": "code",
   "execution_count": 2,
   "metadata": {
    "scrolled": true
   },
   "outputs": [],
   "source": [
    "oof1=pd.read_csv('OOF_lgb_118_seed_100.csv')\n",
    "oof2=pd.read_csv('OOF_lgb_118_seed_200.csv')\n",
    "oof4=pd.read_csv('OOF_lgb_946_seed_100.csv')\n",
    "oof5=pd.read_csv('OOF_lgb_946_seed_200.csv')\n",
    "oof7=pd.read_csv('OOF_catboost_118_lr_0.02_all_cat_FE.csv')\n",
    "oof8=pd.read_csv('OOF_catboost_118_lr_0.02_all_cat_FE_seed_200.csv')"
   ]
  },
  {
   "cell_type": "code",
   "execution_count": 3,
   "metadata": {},
   "outputs": [],
   "source": [
    "preds1=pd.read_csv('preds_lgb_118_seed_100.csv')\n",
    "preds2=pd.read_csv('preds_lgb_118_seed_200.csv')\n",
    "preds4=pd.read_csv('preds_lgb_946_seed_100.csv')\n",
    "preds5=pd.read_csv('preds_lgb_946_seed_200.csv')\n",
    "preds7=pd.read_csv('catboost_118_lr_0.02_all_cat_FE.csv')\n",
    "preds8=pd.read_csv('catboost_118_lr_0.02_all_cat_FE_seed_200.csv')"
   ]
  },
  {
   "cell_type": "code",
   "execution_count": 4,
   "metadata": {},
   "outputs": [],
   "source": [
    "meta_train=pd.DataFrame({'lgb_118_100':oof1.iloc[:,0],'lgb_118_200':oof2.iloc[:,0],\n",
    "             'lgb_946_100':oof4.iloc[:,0],'lgb_946_200':oof5.iloc[:,0],\n",
    "             'catb_118_100':oof7.iloc[:,0],\n",
    "             'catb_118_200':oof8.iloc[:,0]\n",
    "                        })\n",
    "target=pd.read_csv('train.csv',usecols=['amount_spent_per_room_night_scaled']).amount_spent_per_room_night_scaled"
   ]
  },
  {
   "cell_type": "code",
   "execution_count": 5,
   "metadata": {},
   "outputs": [],
   "source": [
    "meta_test=pd.DataFrame({'lgb_118_100':preds1.iloc[:,0],'lgb_118_200':preds2.iloc[:,0],\n",
    "             'lgb_946_100':preds4.iloc[:,0],'lgb_946_200':preds5.iloc[:,0],\n",
    "             'catb_118_100':preds7.iloc[:,0],\n",
    "            'catb_118_200':preds8.iloc[:,0]\n",
    "                       }\n",
    "                      )"
   ]
  },
  {
   "cell_type": "code",
   "execution_count": 6,
   "metadata": {},
   "outputs": [
    {
     "data": {
      "text/html": [
       "<div>\n",
       "<style scoped>\n",
       "    .dataframe tbody tr th:only-of-type {\n",
       "        vertical-align: middle;\n",
       "    }\n",
       "\n",
       "    .dataframe tbody tr th {\n",
       "        vertical-align: top;\n",
       "    }\n",
       "\n",
       "    .dataframe thead th {\n",
       "        text-align: right;\n",
       "    }\n",
       "</style>\n",
       "<table border=\"1\" class=\"dataframe\">\n",
       "  <thead>\n",
       "    <tr style=\"text-align: right;\">\n",
       "      <th></th>\n",
       "      <th>catb_118_100</th>\n",
       "      <th>catb_118_200</th>\n",
       "      <th>lgb_118_100</th>\n",
       "      <th>lgb_118_200</th>\n",
       "      <th>lgb_946_100</th>\n",
       "      <th>lgb_946_200</th>\n",
       "    </tr>\n",
       "  </thead>\n",
       "  <tbody>\n",
       "    <tr>\n",
       "      <th>0</th>\n",
       "      <td>8.413268</td>\n",
       "      <td>8.423075</td>\n",
       "      <td>8.503907</td>\n",
       "      <td>8.501809</td>\n",
       "      <td>8.569752</td>\n",
       "      <td>8.563438</td>\n",
       "    </tr>\n",
       "    <tr>\n",
       "      <th>1</th>\n",
       "      <td>7.409705</td>\n",
       "      <td>7.404068</td>\n",
       "      <td>7.456415</td>\n",
       "      <td>7.438916</td>\n",
       "      <td>7.429419</td>\n",
       "      <td>7.413067</td>\n",
       "    </tr>\n",
       "    <tr>\n",
       "      <th>2</th>\n",
       "      <td>7.457382</td>\n",
       "      <td>7.460789</td>\n",
       "      <td>7.502171</td>\n",
       "      <td>7.491413</td>\n",
       "      <td>7.557557</td>\n",
       "      <td>7.552778</td>\n",
       "    </tr>\n",
       "    <tr>\n",
       "      <th>3</th>\n",
       "      <td>7.857927</td>\n",
       "      <td>7.858712</td>\n",
       "      <td>7.932425</td>\n",
       "      <td>7.919128</td>\n",
       "      <td>7.970119</td>\n",
       "      <td>7.954088</td>\n",
       "    </tr>\n",
       "    <tr>\n",
       "      <th>4</th>\n",
       "      <td>7.889799</td>\n",
       "      <td>7.888092</td>\n",
       "      <td>7.940813</td>\n",
       "      <td>7.916669</td>\n",
       "      <td>7.838000</td>\n",
       "      <td>7.845519</td>\n",
       "    </tr>\n",
       "  </tbody>\n",
       "</table>\n",
       "</div>"
      ],
      "text/plain": [
       "   catb_118_100  catb_118_200  lgb_118_100  lgb_118_200  lgb_946_100  \\\n",
       "0      8.413268      8.423075     8.503907     8.501809     8.569752   \n",
       "1      7.409705      7.404068     7.456415     7.438916     7.429419   \n",
       "2      7.457382      7.460789     7.502171     7.491413     7.557557   \n",
       "3      7.857927      7.858712     7.932425     7.919128     7.970119   \n",
       "4      7.889799      7.888092     7.940813     7.916669     7.838000   \n",
       "\n",
       "   lgb_946_200  \n",
       "0     8.563438  \n",
       "1     7.413067  \n",
       "2     7.552778  \n",
       "3     7.954088  \n",
       "4     7.845519  "
      ]
     },
     "execution_count": 6,
     "metadata": {},
     "output_type": "execute_result"
    }
   ],
   "source": [
    "meta_test.head()"
   ]
  },
  {
   "cell_type": "code",
   "execution_count": 7,
   "metadata": {},
   "outputs": [
    {
     "data": {
      "text/html": [
       "<div>\n",
       "<style scoped>\n",
       "    .dataframe tbody tr th:only-of-type {\n",
       "        vertical-align: middle;\n",
       "    }\n",
       "\n",
       "    .dataframe tbody tr th {\n",
       "        vertical-align: top;\n",
       "    }\n",
       "\n",
       "    .dataframe thead th {\n",
       "        text-align: right;\n",
       "    }\n",
       "</style>\n",
       "<table border=\"1\" class=\"dataframe\">\n",
       "  <thead>\n",
       "    <tr style=\"text-align: right;\">\n",
       "      <th></th>\n",
       "      <th>catb_118_100</th>\n",
       "      <th>catb_118_200</th>\n",
       "      <th>lgb_118_100</th>\n",
       "      <th>lgb_118_200</th>\n",
       "      <th>lgb_946_100</th>\n",
       "      <th>lgb_946_200</th>\n",
       "    </tr>\n",
       "  </thead>\n",
       "  <tbody>\n",
       "    <tr>\n",
       "      <th>0</th>\n",
       "      <td>7.970579</td>\n",
       "      <td>7.945658</td>\n",
       "      <td>8.007771</td>\n",
       "      <td>8.137556</td>\n",
       "      <td>8.168119</td>\n",
       "      <td>8.195903</td>\n",
       "    </tr>\n",
       "    <tr>\n",
       "      <th>1</th>\n",
       "      <td>6.798381</td>\n",
       "      <td>6.924421</td>\n",
       "      <td>6.880112</td>\n",
       "      <td>6.885123</td>\n",
       "      <td>6.830335</td>\n",
       "      <td>6.786534</td>\n",
       "    </tr>\n",
       "    <tr>\n",
       "      <th>2</th>\n",
       "      <td>7.083482</td>\n",
       "      <td>7.033327</td>\n",
       "      <td>7.054327</td>\n",
       "      <td>7.025443</td>\n",
       "      <td>6.994733</td>\n",
       "      <td>7.053505</td>\n",
       "    </tr>\n",
       "    <tr>\n",
       "      <th>3</th>\n",
       "      <td>6.989968</td>\n",
       "      <td>6.834804</td>\n",
       "      <td>6.963848</td>\n",
       "      <td>6.910085</td>\n",
       "      <td>6.872955</td>\n",
       "      <td>6.767249</td>\n",
       "    </tr>\n",
       "    <tr>\n",
       "      <th>4</th>\n",
       "      <td>6.828593</td>\n",
       "      <td>6.848638</td>\n",
       "      <td>6.794389</td>\n",
       "      <td>6.783614</td>\n",
       "      <td>6.577824</td>\n",
       "      <td>6.619822</td>\n",
       "    </tr>\n",
       "  </tbody>\n",
       "</table>\n",
       "</div>"
      ],
      "text/plain": [
       "   catb_118_100  catb_118_200  lgb_118_100  lgb_118_200  lgb_946_100  \\\n",
       "0      7.970579      7.945658     8.007771     8.137556     8.168119   \n",
       "1      6.798381      6.924421     6.880112     6.885123     6.830335   \n",
       "2      7.083482      7.033327     7.054327     7.025443     6.994733   \n",
       "3      6.989968      6.834804     6.963848     6.910085     6.872955   \n",
       "4      6.828593      6.848638     6.794389     6.783614     6.577824   \n",
       "\n",
       "   lgb_946_200  \n",
       "0     8.195903  \n",
       "1     6.786534  \n",
       "2     7.053505  \n",
       "3     6.767249  \n",
       "4     6.619822  "
      ]
     },
     "execution_count": 7,
     "metadata": {},
     "output_type": "execute_result"
    }
   ],
   "source": [
    "meta_train.head()"
   ]
  },
  {
   "cell_type": "code",
   "execution_count": 8,
   "metadata": {},
   "outputs": [
    {
     "name": "stdout",
     "output_type": "stream",
     "text": [
      "(341424, 6) (146765, 6)\n"
     ]
    }
   ],
   "source": [
    "print meta_train.shape,meta_test.shape"
   ]
  },
  {
   "cell_type": "code",
   "execution_count": 9,
   "metadata": {},
   "outputs": [],
   "source": [
    "from sklearn.metrics import mean_squared_error"
   ]
  },
  {
   "cell_type": "code",
   "execution_count": 10,
   "metadata": {},
   "outputs": [
    {
     "data": {
      "text/plain": [
       "[0.963153064867062,\n",
       " 0.9632801366271472,\n",
       " 0.9643625840377068,\n",
       " 0.9644005708684165,\n",
       " 0.9616761532225605,\n",
       " 0.9613957124520353]"
      ]
     },
     "execution_count": 10,
     "metadata": {},
     "output_type": "execute_result"
    }
   ],
   "source": [
    "[mean_squared_error(target,meta_train.iloc[:,a])**0.5 for a in range(6)]"
   ]
  },
  {
   "cell_type": "code",
   "execution_count": 11,
   "metadata": {},
   "outputs": [
    {
     "name": "stdout",
     "output_type": "stream",
     "text": [
      "0.9609527445243013\n"
     ]
    }
   ],
   "source": [
    "print mean_squared_error(target,meta_train.mean(axis=1))**0.5"
   ]
  },
  {
   "cell_type": "code",
   "execution_count": 15,
   "metadata": {},
   "outputs": [],
   "source": [
    "meta_train_100=meta_train[meta_train.columns[~meta_train.columns.str.contains('200|300')]]\n",
    "meta_test_100=meta_test[meta_test.columns[~meta_test.columns.str.contains('200|300')]]\n",
    "\n",
    "meta_train_200=meta_train[meta_train.columns[~meta_train.columns.str.contains('100|300')]]\n",
    "meta_test_200=meta_test[meta_test.columns[~meta_test.columns.str.contains('100|300')]]"
   ]
  },
  {
   "cell_type": "code",
   "execution_count": 16,
   "metadata": {},
   "outputs": [
    {
     "name": "stdout",
     "output_type": "stream",
     "text": [
      "0.9612813133990932\n",
      "0.9612972146218226\n"
     ]
    }
   ],
   "source": [
    "print mean_squared_error(target,meta_train_100.mean(axis=1))**0.5\n",
    "print mean_squared_error(target,meta_train_200.mean(axis=1))**0.5"
   ]
  },
  {
   "cell_type": "code",
   "execution_count": 17,
   "metadata": {},
   "outputs": [],
   "source": [
    "from sklearn.linear_model import LinearRegression"
   ]
  },
  {
   "cell_type": "code",
   "execution_count": 18,
   "metadata": {},
   "outputs": [],
   "source": [
    "meta_est_100=Estimator(model=LinearRegression(),n_jobs=-1,\n",
    "                          validation_scheme='KFold',\n",
    "              random_state=100,n_splits=5,early_stopping_rounds=100,shuffle=True)"
   ]
  },
  {
   "cell_type": "code",
   "execution_count": 19,
   "metadata": {},
   "outputs": [
    {
     "name": "stdout",
     "output_type": "stream",
     "text": [
      "0.9587301985798623\n",
      "0.9602755215978305\n",
      "0.9500410809147489\n",
      "0.9683491276325767\n",
      "0.9652900001855526\n"
     ]
    }
   ],
   "source": [
    "meta_oof_100=meta_est_100.fit_transform(meta_train_100.values,target.values)"
   ]
  },
  {
   "cell_type": "code",
   "execution_count": 20,
   "metadata": {},
   "outputs": [
    {
     "name": "stdout",
     "output_type": "stream",
     "text": [
      "[0.9587301985798623, 0.9602755215978305, 0.9500410809147489, 0.9683491276325767, 0.9652900001855526] 0.9605371857821142\n"
     ]
    }
   ],
   "source": [
    "print meta_est_100.cv_scores, meta_est_100.avg_cv_score"
   ]
  },
  {
   "cell_type": "code",
   "execution_count": 21,
   "metadata": {},
   "outputs": [],
   "source": [
    "meta_est_200=Estimator(model=LinearRegression(),n_jobs=-1,\n",
    "                          validation_scheme='KFold',\n",
    "              random_state=200,n_splits=5,early_stopping_rounds=100,shuffle=True)"
   ]
  },
  {
   "cell_type": "code",
   "execution_count": 22,
   "metadata": {},
   "outputs": [
    {
     "name": "stdout",
     "output_type": "stream",
     "text": [
      "0.9600619076278196\n",
      "0.9563922669529618\n",
      "0.9602988651536486\n",
      "0.961015852075746\n",
      "0.9645812057682608\n"
     ]
    }
   ],
   "source": [
    "meta_oof_200=meta_est_200.fit_transform(meta_train_200.values,target.values)"
   ]
  },
  {
   "cell_type": "code",
   "execution_count": 23,
   "metadata": {},
   "outputs": [
    {
     "name": "stdout",
     "output_type": "stream",
     "text": [
      "[0.9600619076278196, 0.9563922669529618, 0.9602988651536486, 0.961015852075746, 0.9645812057682608] 0.9604700195156873 0.0026085896832751605\n"
     ]
    }
   ],
   "source": [
    "print meta_est_200.cv_scores, meta_est_200.avg_cv_score, np.std(meta_est_200.cv_scores)"
   ]
  },
  {
   "cell_type": "code",
   "execution_count": 20,
   "metadata": {},
   "outputs": [
    {
     "data": {
      "text/plain": [
       "['meta_LR_seed_200.pkl']"
      ]
     },
     "execution_count": 20,
     "metadata": {},
     "output_type": "execute_result"
    }
   ],
   "source": [
    "# joblib.dump(meta_est_100,'meta_LR_seed_100.pkl')\n",
    "# joblib.dump(meta_est_200,'meta_LR_seed_200.pkl')"
   ]
  },
  {
   "cell_type": "code",
   "execution_count": 24,
   "metadata": {},
   "outputs": [
    {
     "name": "stderr",
     "output_type": "stream",
     "text": [
      "custom_estimator_regressor.py:108: FutureWarning: arrays to stack must be passed as a \"sequence\" type such as list or tuple. Support for non-sequence iterables such as generators is deprecated as of NumPy 1.16 and will raise an error in the future.\n",
      "  return np.mean(np.column_stack((est.predict(x) for est in self.fitted_models)), axis=1)\n"
     ]
    }
   ],
   "source": [
    "meta_preds_100=meta_est_100.predict(meta_test_100.values)\n",
    "meta_preds_200=meta_est_200.predict(meta_test_200.values)"
   ]
  },
  {
   "cell_type": "code",
   "execution_count": 25,
   "metadata": {},
   "outputs": [
    {
     "name": "stdout",
     "output_type": "stream",
     "text": [
      "0.9599669793324584\n"
     ]
    }
   ],
   "source": [
    "print mean_squared_error(target,(meta_oof_100+meta_oof_200)/2)**0.5"
   ]
  },
  {
   "cell_type": "code",
   "execution_count": 27,
   "metadata": {},
   "outputs": [],
   "source": [
    "meta_avg=(meta_preds_100+meta_preds_200)/2\n",
    "sub=pd.read_csv('sample_submission.csv')\n",
    "res_ids=pd.read_csv('test.csv',usecols=['reservation_id']).reservation_id\n",
    "sol=pd.DataFrame({'reservation_id':res_ids,'amount_spent_per_room_night_scaled':meta_avg})\n",
    "sol.to_csv('final_sub_2.csv',index=False)"
   ]
  }
 ],
 "metadata": {
  "kernelspec": {
   "display_name": "Python 2",
   "language": "python",
   "name": "python2"
  },
  "language_info": {
   "codemirror_mode": {
    "name": "ipython",
    "version": 2
   },
   "file_extension": ".py",
   "mimetype": "text/x-python",
   "name": "python",
   "nbconvert_exporter": "python",
   "pygments_lexer": "ipython2",
   "version": "2.7.16"
  }
 },
 "nbformat": 4,
 "nbformat_minor": 2
}
