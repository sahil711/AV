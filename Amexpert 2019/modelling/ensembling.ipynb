{
 "cells": [
  {
   "cell_type": "code",
   "execution_count": null,
   "metadata": {},
   "outputs": [],
   "source": [
    "%load_ext autoreload\n",
    "%autoreload 2\n",
    "import sys\n",
    "sys.path.append('..')\n",
    "import pandas as pd\n",
    "import numpy as np\n",
    "pd.options.display.max_rows=1000\n",
    "pd.options.display.max_columns=1000\n",
    "\n",
    "from custom_estimator import Estimator\n",
    "from lightgbm import LGBMClassifier\n",
    "from xgboost import XGBClassifier\n",
    "import os\n",
    "import glob\n",
    "from sklearn.externals import joblib\n",
    "from encoding import FreqeuncyEncoding\n",
    "import warnings\n",
    "warnings.filterwarnings(\"ignore\")\n",
    "from sklearn.externals import joblib"
   ]
  },
  {
   "cell_type": "code",
   "execution_count": null,
   "metadata": {},
   "outputs": [],
   "source": [
    "train=pd.read_pickle('../train_v2.pkl')"
   ]
  },
  {
   "cell_type": "code",
   "execution_count": null,
   "metadata": {},
   "outputs": [],
   "source": [
    "from sklearn.model_selection import GroupKFold\n",
    "folds=GroupKFold(n_splits=5)\n",
    "folds1=[(x,y) for x,y in  folds.split(train,train.redemption_status,train.coupon_id)]\n",
    "folds2=[(x,y) for x,y in  folds.split(train,train.redemption_status,train.campaign_id)]"
   ]
  },
  {
   "cell_type": "code",
   "execution_count": null,
   "metadata": {},
   "outputs": [],
   "source": [
    "from sklearn.metrics import roc_auc_score"
   ]
  },
  {
   "cell_type": "code",
   "execution_count": null,
   "metadata": {},
   "outputs": [],
   "source": [
    "target=pd.read_csv('meta_target.csv')"
   ]
  },
  {
   "cell_type": "code",
   "execution_count": null,
   "metadata": {},
   "outputs": [],
   "source": [
    "oof1=pd.read_csv('OOF_baseline_lgb_grp_k_coup_more_feats.csv')\n",
    "oof2=pd.read_csv('OOF_baseline_lgb_grp_k_coup_more_feats_v2.csv')\n",
    "oof3=pd.read_csv('OOF_baseline_xgb_grp_k_coup_more_feats.csv')\n",
    "oof4=pd.read_csv('OOF_baseline_xgb_grp_k_coup_more_feats_v2.csv')\n",
    "oof5=pd.read_csv('OOF_baseline_lgb_grp_k_camp_more_feats.csv')\n",
    "oof6=pd.read_csv('OOF_baseline_lgb_grp_k_camp_more_feats_v2.csv')\n",
    "oof7=pd.read_csv('OOF_baseline_xgb_grp_k_camp_more_feats.csv')\n",
    "oof8=pd.read_csv('OOF_baseline_xgb_grp_k_camp_more_feats_v2.csv')\n",
    "\n",
    "oof9=pd.read_csv('OOF_baseline_catb_grp_k_coup_more_feats.csv')\n",
    "oof10=pd.read_csv('OOF_baseline_catb_grp_k_coup_more_feats_v2.csv')\n",
    "oof11=pd.read_csv('OOF_baseline_catb_grp_k_camp_more_feats.csv')\n",
    "oof12=pd.read_csv('OOF_baseline_catb_grp_k_camp_more_feats_v2.csv')\n"
   ]
  },
  {
   "cell_type": "code",
   "execution_count": null,
   "metadata": {},
   "outputs": [],
   "source": [
    "pred1=pd.read_csv('baseline_lgb_grp_k_coup_more_feats.csv')\n",
    "pred2=pd.read_csv('baseline_lgb_grp_k_coup_more_feats_v2.csv')\n",
    "pred3=pd.read_csv('baseline_xgb_grp_k_coup_more_feats.csv')\n",
    "pred4=pd.read_csv('baseline_xgb_grp_k_coup_more_feats_v2.csv')\n",
    "pred5=pd.read_csv('baseline_lgb_grp_k_camp_more_feats.csv')\n",
    "pred6=pd.read_csv('baseline_lgb_grp_k_camp_more_feats_v2.csv')\n",
    "pred7=pd.read_csv('baseline_xgb_grp_k_camp_more_feats.csv')\n",
    "pred8=pd.read_csv('baseline_xgb_grp_k_camp_more_feats_v2.csv')\n",
    "\n",
    "pred9=pd.read_csv('baseline_catb_grp_k_coup_more_feats.csv')\n",
    "pred10=pd.read_csv('baseline_catb_grp_k_coup_more_feats_v2.csv')\n",
    "pred11=pd.read_csv('baseline_catb_grp_k_camp_more_feats.csv')\n",
    "pred12=pd.read_csv('baseline_catb_grp_k_camp_more_feats_v2.csv')\n"
   ]
  },
  {
   "cell_type": "code",
   "execution_count": null,
   "metadata": {},
   "outputs": [],
   "source": [
    "meta_train_coup=pd.DataFrame({\n",
    "    'coup_lgb_v1':oof1.redemption_status,\n",
    "    'coup_lgb_v2':oof2.redemption_status,\n",
    "    'coup_xgb_v1':oof3.redemption_status,\n",
    "    'coup_xgb_v2':oof4.redemption_status,\n",
    "    'coup_catb_v1':oof9.redemption_status,\n",
    "    'coup_catb_v2':oof10.redemption_status,    \n",
    "})\n",
    "meta_train_camp=pd.DataFrame({\n",
    "'camp_lgb_v1':oof5.redemption_status,\n",
    "    'camp_lgb_v2':oof6.redemption_status,\n",
    "    'camp_xgb_v1':oof7.redemption_status,\n",
    "    'camp_xgb_v2':oof8.redemption_status,\n",
    "    'camp_catb_v1':oof11.redemption_status,\n",
    "    'camp_catb_v2':oof12.redemption_status,    \n",
    "\n",
    "})\n"
   ]
  },
  {
   "cell_type": "code",
   "execution_count": null,
   "metadata": {},
   "outputs": [],
   "source": [
    "meta_test_coup=pd.DataFrame({\n",
    "    'coup_lgb_v1':pred1.redemption_status,\n",
    "    'coup_lgb_v2':pred2.redemption_status,\n",
    "    'coup_xgb_v1':pred3.redemption_status,\n",
    "    'coup_xgb_v2':pred4.redemption_status,\n",
    "    'coup_catb_v1':pred9.redemption_status,\n",
    "    'coup_catb_v2':pred10.redemption_status,    \n",
    "\n",
    "})\n",
    "meta_test_camp=pd.DataFrame({\n",
    "'camp_lgb_v1':pred5.redemption_status,\n",
    "    'camp_lgb_v2':pred6.redemption_status,\n",
    "    'camp_xgb_v1':pred7.redemption_status,\n",
    "    'camp_xgb_v2':pred8.redemption_status,    \n",
    "    'camp_catb_v1':pred11.redemption_status,\n",
    "    'camp_catb_v2':pred12.redemption_status,    \n",
    "\n",
    "})\n"
   ]
  },
  {
   "cell_type": "code",
   "execution_count": null,
   "metadata": {},
   "outputs": [],
   "source": [
    "roc_auc_score(target['redemption_status'],pd.concat((meta_train_camp,meta_train_coup),axis=1).mean(axis=1))"
   ]
  },
  {
   "cell_type": "code",
   "execution_count": null,
   "metadata": {},
   "outputs": [],
   "source": [
    "sub=pd.read_csv('../sample_submission_Byiv0dS.csv')\n",
    "preds=pd.concat((meta_test_camp,meta_test_coup),axis=1).mean(axis=1)\n",
    "pd.DataFrame({'id':pred1['id'],'redemption_status': preds}).to_csv('final_sub_2.csv',index=False)"
   ]
  }
 ],
 "metadata": {
  "kernelspec": {
   "display_name": "Python 3",
   "language": "python",
   "name": "python3"
  },
  "language_info": {
   "codemirror_mode": {
    "name": "ipython",
    "version": 3
   },
   "file_extension": ".py",
   "mimetype": "text/x-python",
   "name": "python",
   "nbconvert_exporter": "python",
   "pygments_lexer": "ipython3",
   "version": "3.5.2"
  }
 },
 "nbformat": 4,
 "nbformat_minor": 2
}
