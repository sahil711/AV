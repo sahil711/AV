{
 "cells": [
  {
   "cell_type": "code",
   "execution_count": null,
   "metadata": {},
   "outputs": [],
   "source": [
    "import pandas as pd\n",
    "import numpy as np\n",
    "pd.options.display.max_rows=1000\n",
    "pd.options.display.max_columns=1000\n",
    "from multiprocessing import Pool"
   ]
  },
  {
   "cell_type": "code",
   "execution_count": null,
   "metadata": {},
   "outputs": [],
   "source": [
    "train=pd.read_csv('../train.csv')\n",
    "test=pd.read_csv('../test_QyjYwdj.csv')\n",
    "item=pd.read_csv('../item_data.csv')\n",
    "transaction=pd.read_csv('../customer_transaction_data.csv')\n",
    "coupon=pd.read_csv('../coupon_item_mapping.csv')\n",
    "camp=pd.read_csv('../campaign_data.csv')\n",
    "camp.start_date=pd.to_datetime(camp.start_date,format='%d/%m/%y')\n",
    "camp.end_date=pd.to_datetime(camp.end_date,format='%d/%m/%y')\n",
    "camp.sort_values('start_date',inplace=True)\n",
    "df=pd.concat((train.iloc[:,:-1],test),axis=0)\n",
    "df=df.merge(camp,on='campaign_id',how='left')\n",
    "transaction.date=pd.to_datetime(transaction.date)"
   ]
  },
  {
   "cell_type": "code",
   "execution_count": null,
   "metadata": {},
   "outputs": [],
   "source": [
    "df.head()"
   ]
  },
  {
   "cell_type": "code",
   "execution_count": null,
   "metadata": {},
   "outputs": [],
   "source": [
    "coupon_list=df.coupon_id.unique()"
   ]
  },
  {
   "cell_type": "code",
   "execution_count": null,
   "metadata": {},
   "outputs": [],
   "source": [
    "def get_similar_coupon_mean(c):\n",
    "    coups=coupon[coupon.item_id.isin(coupon[coupon.coupon_id==c].item_id)].coupon_id.unique()\n",
    "    coups=coups[np.where(coups!=c)[0]]\n",
    "    return c,train[train.coupon_id.isin(coups)].redemption_status.sum(),train[train.coupon_id.isin(coups)].redemption_status.mean()"
   ]
  },
  {
   "cell_type": "code",
   "execution_count": null,
   "metadata": {},
   "outputs": [],
   "source": [
    "%%time\n",
    "cols=['coupon_id','tot_redemption','mean_redemption']\n",
    "try:\n",
    "    pool = Pool(16) \n",
    "    data_outputs = pool.map(get_similar_coupon_mean, [coup for coup in coupon_list])\n",
    "finally: \n",
    "    pool.close()\n",
    "    pool.join()"
   ]
  },
  {
   "cell_type": "code",
   "execution_count": null,
   "metadata": {},
   "outputs": [],
   "source": [
    "pd.DataFrame(data_outputs,columns=cols).to_csv('../coupon_mean_encoding_v2.csv',index=False)"
   ]
  },
  {
   "cell_type": "code",
   "execution_count": null,
   "metadata": {},
   "outputs": [],
   "source": [
    "transaction=transaction.merge(item,on='item_id')"
   ]
  },
  {
   "cell_type": "code",
   "execution_count": null,
   "metadata": {},
   "outputs": [],
   "source": [
    "coupon=coupon.merge(item,on='item_id')"
   ]
  },
  {
   "cell_type": "code",
   "execution_count": null,
   "metadata": {
    "scrolled": true
   },
   "outputs": [],
   "source": [
    "coupon.head()"
   ]
  },
  {
   "cell_type": "code",
   "execution_count": null,
   "metadata": {},
   "outputs": [],
   "source": [
    "def get_feat(row):\n",
    "    data_=row[1]\n",
    "    temp=transaction[(transaction.customer_id==data_['customer_id'])&\\\n",
    "                         (transaction.brand.isin(coupon[coupon.coupon_id==data_['coupon_id']].brand))\\\n",
    "               &(transaction.date<data_['start_date'])]\n",
    "    \n",
    "    if temp.shape[0]>0:\n",
    "        a=temp['coupon_discount']/temp['selling_price']\n",
    "        feats=[data_.id]+[temp.shape[0],   sum(temp['coupon_discount']<0),  sum(temp['coupon_discount']<0)/temp.shape[0],\\\n",
    "                          temp['coupon_discount'].sum(),temp['selling_price'].sum(),\n",
    "                          \n",
    "                          temp['coupon_discount'].mean(),temp['selling_price'].mean(),temp['other_discount'].sum(),\\\n",
    "                          temp['other_discount'].mean(),a.mean(),a.sum() \n",
    "                         ]\n",
    "    else:\n",
    "        feats=[data_.id]+np.repeat(0,11).tolist()\n",
    "    return feats"
   ]
  },
  {
   "cell_type": "code",
   "execution_count": null,
   "metadata": {},
   "outputs": [],
   "source": [
    "import datetime\n",
    "temp=df[['customer_id','coupon_id','start_date','id','end_date']]\n",
    "temp['cut_off_date']=pd.to_datetime(df.start_date) -datetime.timedelta(150)"
   ]
  },
  {
   "cell_type": "code",
   "execution_count": null,
   "metadata": {},
   "outputs": [],
   "source": [
    "%%time\n",
    "cols=['id','num_bought_brand_cust','num_discount_availed_brand_cust','frac_discount_availed_brand_cust','sum_discount_brand_cust',\n",
    "'selling_price_sum_brand_cust',\n",
    "'coupon_discount_mean_brand_cust','selling_price_mean_brand_cust','other_discount_sum_brand_cust',\n",
    "      'other_discount_mean_brand_cust','cd_sp_ratio_mean_brand_cust','cd_sp_ratio_sum_brand_cust'\n",
    "     ]\n",
    "\n",
    "try:\n",
    "    pool = Pool(16) \n",
    "    data_outputs = pool.map(get_feat, temp.iterrows())\n",
    "finally: \n",
    "    pool.close()\n",
    "    pool.join()"
   ]
  },
  {
   "cell_type": "code",
   "execution_count": null,
   "metadata": {},
   "outputs": [],
   "source": [
    "feat_df=pd.DataFrame(np.row_stack(data_outputs),columns=cols)"
   ]
  },
  {
   "cell_type": "code",
   "execution_count": null,
   "metadata": {},
   "outputs": [],
   "source": [
    "feat_df.to_csv('../brand_cust_feats_no_lag_v2.csv',index=False)"
   ]
  },
  {
   "cell_type": "code",
   "execution_count": null,
   "metadata": {},
   "outputs": [],
   "source": [
    "def get_feat(row):\n",
    "    data_=row[1]\n",
    "    temp=transaction[(transaction.brand.isin(coupon[coupon.coupon_id==data_['coupon_id']].brand))\\\n",
    "               &(transaction.date<data_['start_date'])]\n",
    "\n",
    "    if temp.shape[0]>0:\n",
    "        a=temp['coupon_discount']/temp['selling_price']\n",
    "        feats=[data_.id]+[temp.shape[0],   sum(temp['coupon_discount']<0),  sum(temp['coupon_discount']<0)/temp.shape[0],\\\n",
    "                          temp['coupon_discount'].sum(),temp['selling_price'].sum(),\n",
    "                          \n",
    "                          temp['coupon_discount'].mean(),temp['selling_price'].mean(),temp['other_discount'].sum(),\\\n",
    "                          temp['other_discount'].mean(),a.mean(),a.sum() \n",
    "                         ]\n",
    "    else:\n",
    "        feats=[data_.id]+np.repeat(0,11).tolist()\n",
    "    return feats"
   ]
  },
  {
   "cell_type": "code",
   "execution_count": null,
   "metadata": {},
   "outputs": [],
   "source": [
    "%%time\n",
    "# cols=['id','num_bought_brand','num_discount_availed_brand','frac_discount_availed_brand','sum_discount_brand']\n",
    "cols=['id','num_bought_brand','num_discount_availed_brand','frac_discount_availed_brand','sum_discount_brand',\n",
    "'selling_price_sum_brand',\n",
    "'coupon_discount_mean_brand','selling_price_mean_brand','other_discount_sum_brand',\n",
    "      'other_discount_mean_brand','cd_sp_ratio_mean_brand','cd_sp_ratio_sum_brand'\n",
    "     ]\n",
    "try:\n",
    "    pool = Pool(16) \n",
    "    data_outputs = pool.map(get_feat, temp.iterrows())\n",
    "finally: \n",
    "    pool.close()\n",
    "    pool.join()"
   ]
  },
  {
   "cell_type": "code",
   "execution_count": null,
   "metadata": {},
   "outputs": [],
   "source": [
    "feat_df=pd.DataFrame(np.row_stack(data_outputs),columns=cols)\n",
    "feat_df.to_csv('../brand_feats_no_lag_v2.csv',index=False)"
   ]
  },
  {
   "cell_type": "code",
   "execution_count": null,
   "metadata": {},
   "outputs": [],
   "source": [
    "# a=pd.read_csv('../brand_cust_feats_no_lag_v2.csv')\n",
    "# b=pd.read_csv('../../av_amex/brand_cust_feats_no_lag_v2.csv')\n",
    "# (a.mean()==b.mean()).value_counts()"
   ]
  }
 ],
 "metadata": {
  "kernelspec": {
   "display_name": "Python 3",
   "language": "python",
   "name": "python3"
  },
  "language_info": {
   "codemirror_mode": {
    "name": "ipython",
    "version": 3
   },
   "file_extension": ".py",
   "mimetype": "text/x-python",
   "name": "python",
   "nbconvert_exporter": "python",
   "pygments_lexer": "ipython3",
   "version": "3.5.2"
  }
 },
 "nbformat": 4,
 "nbformat_minor": 2
}
