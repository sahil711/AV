{
 "cells": [
  {
   "cell_type": "code",
   "execution_count": null,
   "metadata": {},
   "outputs": [],
   "source": [
    "import pandas as pd\n",
    "import numpy as np\n",
    "pd.options.display.max_rows=1000\n",
    "pd.options.display.max_columns=1000\n",
    "from multiprocessing import Pool"
   ]
  },
  {
   "cell_type": "code",
   "execution_count": null,
   "metadata": {},
   "outputs": [],
   "source": [
    "train=pd.read_csv('../train.csv')\n",
    "test=pd.read_csv('../test_QyjYwdj.csv')\n",
    "item=pd.read_csv('../item_data.csv')\n",
    "transaction=pd.read_csv('../customer_transaction_data.csv')\n",
    "coupon_item_mapping=pd.read_csv('../coupon_item_mapping.csv')\n",
    "camp=pd.read_csv('../campaign_data.csv')\n",
    "camp.start_date=pd.to_datetime(camp.start_date,format='%d/%m/%y')\n",
    "camp.end_date=pd.to_datetime(camp.end_date,format='%d/%m/%y')\n",
    "camp.sort_values('start_date',inplace=True)\n",
    "df=pd.concat((train.iloc[:,:-1],test),axis=0)\n",
    "df=df.merge(camp,on='campaign_id',how='left')\n",
    "transaction.date=pd.to_datetime(transaction.date)"
   ]
  },
  {
   "cell_type": "code",
   "execution_count": null,
   "metadata": {},
   "outputs": [],
   "source": [
    "df.head()"
   ]
  },
  {
   "cell_type": "code",
   "execution_count": null,
   "metadata": {},
   "outputs": [],
   "source": [
    "def get_coupons_for_customer(cust_id):\n",
    "    return df[df.customer_id==cust_id].coupon_id.unique().tolist()\n",
    "def get_items_for_coupons(coupon_list):\n",
    "    return coupon_item_mapping[coupon_item_mapping.coupon_id.isin(coupon_list)].item_id.unique().tolist()\n",
    "def get_custs_for_coupon(coup_id):\n",
    "    return df[df.coupon_id==coup_id].customer_id.unique().tolist()\n",
    "def get_coupons_for_customer_camp(cust_id,camp_id):\n",
    "    return df[(df.customer_id==cust_id)&(df.campaign_id==camp_id)].coupon_id.unique().tolist()"
   ]
  },
  {
   "cell_type": "code",
   "execution_count": null,
   "metadata": {
    "scrolled": true
   },
   "outputs": [],
   "source": [
    "data_=df.iloc[0]"
   ]
  },
  {
   "cell_type": "code",
   "execution_count": null,
   "metadata": {},
   "outputs": [],
   "source": [
    "import datetime"
   ]
  },
  {
   "cell_type": "code",
   "execution_count": null,
   "metadata": {},
   "outputs": [],
   "source": [
    "df.head()"
   ]
  },
  {
   "cell_type": "code",
   "execution_count": null,
   "metadata": {},
   "outputs": [],
   "source": [
    "%%time\n",
    "def get_feat(row):\n",
    "    data_=row[1]\n",
    "    #### this is for test_feat_2\n",
    "    l=get_custs_for_coupon(data_.coupon_id)\n",
    "    l.remove(data_.customer_id)\n",
    "    temp=transaction[(transaction.customer_id.isin(l))&\\\n",
    "                     transaction.item_id.isin(get_items_for_coupons([data_.coupon_id]))\n",
    "                    ]\n",
    "    \n",
    "    \n",
    "    if temp.shape[0]>0:\n",
    "            feats=[data_.id]+[sum(temp.coupon_discount<0),temp.shape[0],temp.coupon_discount.sum()]\n",
    "    else:\n",
    "        feats=[data_['id']]+np.repeat(0,3).tolist()\n",
    "\n",
    "    return feats\n",
    "try:\n",
    "    pool = Pool(16) \n",
    "    data_outputs = pool.map(get_feat, df.iterrows())\n",
    "finally: \n",
    "    pool.close()\n",
    "    pool.join()\n",
    "    \n",
    "cols=['id','test1_var2','test2_var2','test3_var2']\n",
    "test_feat=pd.DataFrame(np.row_stack(data_outputs),columns=cols)\n",
    "test_feat.to_csv('../test_feat_2.csv',index=False)"
   ]
  },
  {
   "cell_type": "code",
   "execution_count": null,
   "metadata": {},
   "outputs": [],
   "source": [
    "%%time\n",
    "def get_feat(row):\n",
    "    data_=row[1]\n",
    "    #### this is for test_feat_2\n",
    "    temp=transaction[(transaction.customer_id!=data_.customer_id)&\\\n",
    "                     transaction.item_id.isin(get_items_for_coupons([data_.coupon_id]))\n",
    "                    ]\n",
    "    \n",
    "    if temp.shape[0]>0:\n",
    "            feats=[data_.id]+[sum(temp.coupon_discount<0),temp.shape[0],temp.coupon_discount.sum()]\n",
    "    else:\n",
    "        feats=[data_['id']]+np.repeat(0,3).tolist()\n",
    "\n",
    "    return feats\n",
    "try:\n",
    "    pool = Pool(16) \n",
    "    data_outputs = pool.map(get_feat, df.iterrows())\n",
    "finally: \n",
    "    pool.close()\n",
    "    pool.join()\n",
    "    \n",
    "cols=['id','test1','test2','test3']\n",
    "test_feat=pd.DataFrame(np.row_stack(data_outputs),columns=cols)\n",
    "test_feat.to_csv('../test_feat.csv',index=False)"
   ]
  },
  {
   "cell_type": "code",
   "execution_count": null,
   "metadata": {},
   "outputs": [],
   "source": [
    "%%time\n",
    "def get_feat(row):\n",
    "    data_=row[1]\n",
    "    temp=transaction[(transaction.customer_id.isin(get_custs_for_coupon(data_.coupon_id)))&\\\n",
    "                (transaction.item_id.isin(get_items_for_coupons([data_.coupon_id])))&\\\n",
    "               (transaction.date<data_.start_date)]\n",
    "    if temp.shape[0]>0:\n",
    "        a=temp['coupon_discount']/temp['selling_price']\n",
    "        feats=[data_['campaign_id'],data_['coupon_id']]+[temp.shape[0],   sum(temp['coupon_discount']<0),  sum(temp['coupon_discount']<0)/temp.shape[0],\\\n",
    "                          temp['coupon_discount'].sum(),temp['selling_price'].sum(),\n",
    "                          \n",
    "                          temp['coupon_discount'].mean(),temp['selling_price'].mean(),temp['other_discount'].sum(),\\\n",
    "                          temp['other_discount'].mean(),a.mean(),a.sum() \n",
    "                         ]\n",
    "    else:\n",
    "        feats=[data_['campaign_id'],data_['coupon_id']]+np.repeat(0,11).tolist()\n",
    "\n",
    "    return feats\n",
    "temp=df[['coupon_id','start_date','campaign_id']].drop_duplicates()\n",
    "try:\n",
    "    pool = Pool(16) \n",
    "    data_outputs = pool.map(get_feat, temp.iterrows())\n",
    "finally: \n",
    "    pool.close()\n",
    "    pool.join()\n",
    "    \n",
    "cols=['campaign_id','coupon_id','num_bought_coup_var1','num_discount_availed_coup_var1','frac_discount_availed_coup_var1','sum_discount_coup_var1',\n",
    "'selling_price_sum_coup_var1',\n",
    "'coupon_discount_mean_coup_var1','selling_price_mean_coup_var1','other_discount_sum_coup_var1',\n",
    "      'other_discount_mean_coup_var1','cd_sp_ratio_mean_coup_var1','cd_sp_ratio_sum_coup_var1'\n",
    "     ]\n",
    "coup_hist1=pd.DataFrame(np.row_stack(data_outputs),columns=cols)"
   ]
  },
  {
   "cell_type": "code",
   "execution_count": null,
   "metadata": {},
   "outputs": [],
   "source": [
    "coup_hist1.to_csv('../coup_hist1_v2.csv',index=False)"
   ]
  },
  {
   "cell_type": "code",
   "execution_count": null,
   "metadata": {},
   "outputs": [],
   "source": [
    "%%time\n",
    "def get_feat(row):\n",
    "    data_=row[1]\n",
    "    temp=transaction[(transaction.customer_id==data_.customer_id)&\\\n",
    "                (transaction.item_id.isin(get_items_for_coupons(get_coupons_for_customer(data_.customer_id))))&\\\n",
    "               (transaction.date<data_.start_date)]\n",
    "    if temp.shape[0]>0:\n",
    "        a=temp['coupon_discount']/temp['selling_price']\n",
    "        feats=[data_['campaign_id'],data_['customer_id']]+[temp.shape[0],   sum(temp['coupon_discount']<0),  sum(temp['coupon_discount']<0)/temp.shape[0],\\\n",
    "                          temp['coupon_discount'].sum(),temp['selling_price'].sum(),\n",
    "                          \n",
    "                          temp['coupon_discount'].mean(),temp['selling_price'].mean(),temp['other_discount'].sum(),\\\n",
    "                          temp['other_discount'].mean(),a.mean(),a.sum() \n",
    "                         ]\n",
    "    else:\n",
    "        feats=[data_['campaign_id'],data_['customer_id']]+np.repeat(0,11).tolist()\n",
    "\n",
    "    return feats\n",
    "temp=df[['customer_id','start_date','campaign_id']].drop_duplicates()\n",
    "try:\n",
    "    pool = Pool(16) \n",
    "    data_outputs = pool.map(get_feat, temp.iterrows())\n",
    "finally: \n",
    "    pool.close()\n",
    "    pool.join()\n",
    "    \n",
    "cols=['campaign_id','customer_id','num_bought_cust_var1','num_discount_availed_cust_var1','frac_discount_availed_cust_var1','sum_discount_cust_var1',\n",
    "'selling_price_sum_cust_var1',\n",
    "'coupon_discount_mean_cust_var1','selling_price_mean_cust_var1','other_discount_sum_cust_var1',\n",
    "      'other_discount_mean_cust_var1','cd_sp_ratio_mean_cust_var1','cd_sp_ratio_sum_cust_var1'\n",
    "     ]\n",
    "cust_coup_hist=pd.DataFrame(np.row_stack(data_outputs),columns=cols)"
   ]
  },
  {
   "cell_type": "code",
   "execution_count": null,
   "metadata": {},
   "outputs": [],
   "source": [
    "cust_coup_hist.head()"
   ]
  },
  {
   "cell_type": "code",
   "execution_count": null,
   "metadata": {},
   "outputs": [],
   "source": [
    "%%time\n",
    "def get_feat(row):\n",
    "    data_=row[1]\n",
    "    temp=transaction[(transaction.customer_id==data_.customer_id)&\\\n",
    "    (transaction.item_id.isin(get_items_for_coupons(get_coupons_for_customer_camp(data_.customer_id,data_.campaign_id))))&\\\n",
    "               (transaction.date<data_.start_date)]\n",
    "    if temp.shape[0]>0:\n",
    "        a=temp['coupon_discount']/temp['selling_price']\n",
    "        feats=[data_['campaign_id'],data_['customer_id']]+[temp.shape[0],   sum(temp['coupon_discount']<0),  sum(temp['coupon_discount']<0)/temp.shape[0],\\\n",
    "                          temp['coupon_discount'].sum(),temp['selling_price'].sum(),\n",
    "                          \n",
    "                          temp['coupon_discount'].mean(),temp['selling_price'].mean(),temp['other_discount'].sum(),\\\n",
    "                          temp['other_discount'].mean(),a.mean(),a.sum() \n",
    "                         ]\n",
    "    else:\n",
    "        feats=[data_['campaign_id'],data_['customer_id']]+np.repeat(0,11).tolist()\n",
    "\n",
    "    return feats\n",
    "temp=df[['customer_id','start_date','campaign_id']].drop_duplicates()\n",
    "try:\n",
    "    pool = Pool(16) \n",
    "    data_outputs = pool.map(get_feat, temp.iterrows())\n",
    "finally: \n",
    "    pool.close()\n",
    "    pool.join()\n",
    "    \n",
    "cols=['campaign_id','customer_id','num_bought_cust_var3','num_discount_availed_cust_var3','frac_discount_availed_cust_var3','sum_discount_cust_var3',\n",
    "'selling_price_sum_cust_var3',\n",
    "'coupon_discount_mean_cust_var3','selling_price_mean_cust_var3','other_discount_sum_cust_var3',\n",
    "      'other_discount_mean_cust_var3','cd_sp_ratio_mean_cust_var3','cd_sp_ratio_sum_cust_var3'\n",
    "     ]\n",
    "cust_coup_hist3=pd.DataFrame(np.row_stack(data_outputs),columns=cols)"
   ]
  },
  {
   "cell_type": "code",
   "execution_count": null,
   "metadata": {},
   "outputs": [],
   "source": [
    "cust_coup_hist3.head()"
   ]
  },
  {
   "cell_type": "code",
   "execution_count": null,
   "metadata": {},
   "outputs": [],
   "source": [
    "cust_coup_hist3.to_csv('../cust_coup_hist3_v2.csv',index=False)"
   ]
  },
  {
   "cell_type": "code",
   "execution_count": null,
   "metadata": {},
   "outputs": [],
   "source": [
    "%%time\n",
    "def get_feat(row):\n",
    "    data_=row[1]\n",
    "    temp=transaction[(transaction.item_id.isin(get_items_for_coupons(get_coupons_for_customer(data_.customer_id))))&\\\n",
    "               (transaction.date<data_.start_date)]\n",
    "    if temp.shape[0]>0:\n",
    "        a=temp['coupon_discount']/temp['selling_price']\n",
    "        feats=[data_['campaign_id'],data_['customer_id']]+[temp.shape[0],   sum(temp['coupon_discount']<0),  sum(temp['coupon_discount']<0)/temp.shape[0],\\\n",
    "                          temp['coupon_discount'].sum(),temp['selling_price'].sum(),\n",
    "                          \n",
    "                          temp['coupon_discount'].mean(),temp['selling_price'].mean(),temp['other_discount'].sum(),\\\n",
    "                          temp['other_discount'].mean(),a.mean(),a.sum() \n",
    "                         ]\n",
    "    else:\n",
    "        feats=[data_['campaign_id'],data_['customer_id']]+np.repeat(0,11).tolist()\n",
    "\n",
    "    return feats\n",
    "temp=df[['customer_id','start_date','campaign_id']].drop_duplicates()\n",
    "try:\n",
    "    pool = Pool(16) \n",
    "    data_outputs = pool.map(get_feat, temp.iterrows())\n",
    "finally: \n",
    "    pool.close()\n",
    "    pool.join()\n",
    "    \n",
    "cols=['campaign_id','customer_id','num_bought_cust_var2','num_discount_availed_cust_var2','frac_discount_availed_cust_var2','sum_discount_cust_var2',\n",
    "'selling_price_sum_cust_var2',\n",
    "'coupon_discount_mean_cust_var2','selling_price_mean_cust_var2','other_discount_sum_cust_var2',\n",
    "      'other_discount_mean_cust_var2','cd_sp_ratio_mean_cust_var2','cd_sp_ratio_sum_cust_var2'\n",
    "     ]\n",
    "cust_coup_hist2=pd.DataFrame(np.row_stack(data_outputs),columns=cols)"
   ]
  },
  {
   "cell_type": "code",
   "execution_count": null,
   "metadata": {},
   "outputs": [],
   "source": [
    "cust_coup_hist2.head()"
   ]
  },
  {
   "cell_type": "code",
   "execution_count": null,
   "metadata": {},
   "outputs": [],
   "source": [
    "cust_coup_hist.to_csv('../customer_coupon_var1_v2.csv',index=False)\n",
    "cust_coup_hist2.to_csv('../customer_coupon_var2_v2.csv',index=False)"
   ]
  }
 ],
 "metadata": {
  "kernelspec": {
   "display_name": "Python 3",
   "language": "python",
   "name": "python3"
  },
  "language_info": {
   "codemirror_mode": {
    "name": "ipython",
    "version": 3
   },
   "file_extension": ".py",
   "mimetype": "text/x-python",
   "name": "python",
   "nbconvert_exporter": "python",
   "pygments_lexer": "ipython3",
   "version": "3.5.2"
  }
 },
 "nbformat": 4,
 "nbformat_minor": 2
}
