{
 "cells": [
  {
   "cell_type": "code",
   "execution_count": null,
   "metadata": {},
   "outputs": [],
   "source": [
    "%load_ext autoreload\n",
    "%autoreload 2\n",
    "import sys\n",
    "sys.path.append('..')\n",
    "import pandas as pd\n",
    "import numpy as np\n",
    "pd.options.display.max_rows=1000\n",
    "pd.options.display.max_columns=1000\n",
    "\n",
    "from custom_estimator import Estimator\n",
    "from lightgbm import LGBMClassifier\n",
    "from xgboost import XGBClassifier\n",
    "import os\n",
    "import glob\n",
    "from sklearn.externals import joblib\n",
    "from encoding import FreqeuncyEncoding\n",
    "import warnings\n",
    "warnings.filterwarnings(\"ignore\")\n",
    "from sklearn.externals import joblib"
   ]
  },
  {
   "cell_type": "code",
   "execution_count": null,
   "metadata": {},
   "outputs": [],
   "source": [
    "train=pd.read_pickle('../train_v2.pkl')\n",
    "test=pd.read_pickle('../test_v2.pkl')"
   ]
  },
  {
   "cell_type": "code",
   "execution_count": null,
   "metadata": {},
   "outputs": [],
   "source": [
    "feat1=pd.read_csv('../feats_user_coup_item_no_lag_v2.csv')\n",
    "feat2=pd.read_csv('../coupon_item_feats_no_lag_v2.csv')\n",
    "feat3=pd.read_csv('../brand_cust_feats_no_lag_v2.csv')\n",
    "feat4=pd.read_csv('../brand_feats_no_lag_v2.csv')\n",
    "feat6=pd.read_csv('../coupon_mean_encoding_v2.csv')\n",
    "feat7=pd.read_csv('../camp_cust_feats_v2.csv')\n",
    "feat8=pd.read_csv('../cust_coup_hist3_v2.csv')\n",
    "feat9=pd.read_csv('../customer_coupon_var1_v2.csv')\n",
    "feat10=pd.read_csv('../customer_coupon_var2_v2.csv')\n",
    "feat11=pd.read_csv('../coup_hist1_v2.csv')"
   ]
  },
  {
   "cell_type": "code",
   "execution_count": null,
   "metadata": {},
   "outputs": [],
   "source": [
    "train=train.merge(feat1,on='id')\n",
    "test=test.merge(feat1,on='id')\n",
    "train=train.merge(feat2,on='id')\n",
    "test=test.merge(feat2,on='id')\n",
    "train=train.merge(feat3,on='id')\n",
    "test=test.merge(feat3,on='id')\n",
    "train=train.merge(feat4,on='id')\n",
    "test=test.merge(feat4,on='id')\n",
    "train=train.merge(feat6,on='coupon_id')\n",
    "test=test.merge(feat6,on='coupon_id')\n",
    "train=train.merge(feat7,on=['campaign_id','customer_id'])\n",
    "test=test.merge(feat7,on=['campaign_id','customer_id'])\n",
    "train=train.merge(feat8,on=['campaign_id','customer_id'])\n",
    "test=test.merge(feat8,on=['campaign_id','customer_id'])\n",
    "train=train.merge(feat9,on=['campaign_id','customer_id'])\n",
    "test=test.merge(feat9,on=['campaign_id','customer_id'])\n",
    "train=train.merge(feat10,on=['campaign_id','customer_id'])\n",
    "test=test.merge(feat10,on=['campaign_id','customer_id'])\n",
    "train=train.merge(feat11,on=['campaign_id','coupon_id'])\n",
    "test=test.merge(feat11,on=['campaign_id','coupon_id'])"
   ]
  },
  {
   "cell_type": "code",
   "execution_count": null,
   "metadata": {},
   "outputs": [],
   "source": [
    "drop_cols=['coupon_discount_mean', 'selling_price_mean', 'other_discount_sum', 'other_discount_mean', 'cd_sp_ratio_mean', \n",
    " 'cd_sp_ratio_sum', 'coupon_discount_mean_coup', 'selling_price_mean_coup', 'other_discount_sum_coup',\n",
    " 'other_discount_mean_coup', 'cd_sp_ratio_mean_coup', 'cd_sp_ratio_sum_coup', 'selling_price_sum_brand_cust',\n",
    " 'coupon_discount_mean_brand_cust', 'selling_price_mean_brand_cust', 'other_discount_sum_brand_cust', \n",
    " 'other_discount_mean_brand_cust', 'cd_sp_ratio_mean_brand_cust', 'cd_sp_ratio_sum_brand_cust', 'selling_price_sum_brand', \n",
    " 'coupon_discount_mean_brand', 'selling_price_mean_brand', 'other_discount_sum_brand', 'other_discount_mean_brand', \n",
    " 'cd_sp_ratio_mean_brand', 'cd_sp_ratio_sum_brand', 'selling_price_sum_camp_cust', 'coupon_discount_mean_camp_cust', \n",
    " 'selling_price_mean_camp_cust', 'other_discount_sum_camp_cust', 'other_discount_mean_camp_cust',\n",
    " 'cd_sp_ratio_mean_camp_cust', 'cd_sp_ratio_sum_camp_cust', 'selling_price_sum_cust_var3', 'coupon_discount_mean_cust_var3',\n",
    " 'selling_price_mean_cust_var3', 'other_discount_sum_cust_var3', 'other_discount_mean_cust_var3', \n",
    " 'cd_sp_ratio_mean_cust_var3', 'cd_sp_ratio_sum_cust_var3', 'selling_price_sum_cust_var1', 'coupon_discount_mean_cust_var1',\n",
    " 'selling_price_mean_cust_var1', 'other_discount_sum_cust_var1', 'other_discount_mean_cust_var1', 'cd_sp_ratio_mean_cust_var1',\n",
    " 'cd_sp_ratio_sum_cust_var1', 'selling_price_sum_cust_var2', 'coupon_discount_mean_cust_var2', 'selling_price_mean_cust_var2',\n",
    " 'other_discount_sum_cust_var2', 'other_discount_mean_cust_var2', 'cd_sp_ratio_mean_cust_var2', 'cd_sp_ratio_sum_cust_var2', \n",
    " 'selling_price_sum_coup_var1', 'coupon_discount_mean_coup_var1', 'selling_price_mean_coup_var1', \n",
    " 'other_discount_sum_coup_var1', 'other_discount_mean_coup_var1', 'cd_sp_ratio_mean_coup_var1', 'cd_sp_ratio_sum_coup_var1']\n",
    "len(drop_cols)"
   ]
  },
  {
   "cell_type": "code",
   "execution_count": null,
   "metadata": {},
   "outputs": [],
   "source": [
    "train.drop(drop_cols,axis=1,inplace=True)\n",
    "test.drop(drop_cols,axis=1,inplace=True)"
   ]
  },
  {
   "cell_type": "code",
   "execution_count": null,
   "metadata": {},
   "outputs": [],
   "source": [
    "target=train[['id','redemption_status']]\n",
    "train.drop('redemption_status',axis=1,inplace=True)\n",
    "df=pd.concat((train,test),axis=0)"
   ]
  },
  {
   "cell_type": "code",
   "execution_count": null,
   "metadata": {},
   "outputs": [],
   "source": [
    "df.shape"
   ]
  },
  {
   "cell_type": "code",
   "execution_count": null,
   "metadata": {},
   "outputs": [],
   "source": [
    "df['num_coupons_per_camp']=df['campaign_id'].map(df.groupby('campaign_id')['coupon_id'].nunique().to_dict())\n",
    "df['num_cust_per_camp']=df['campaign_id'].map(df.groupby('campaign_id')['customer_id'].nunique().to_dict())\n",
    "df['num_cust_per_coup']=df['coupon_id'].map(df.groupby('coupon_id')['customer_id'].nunique().to_dict())"
   ]
  },
  {
   "cell_type": "code",
   "execution_count": null,
   "metadata": {},
   "outputs": [],
   "source": [
    "df.head()"
   ]
  },
  {
   "cell_type": "code",
   "execution_count": null,
   "metadata": {},
   "outputs": [],
   "source": [
    "cat_cols=['campaign_id','coupon_id','customer_id','campaign_type','campaign_start_day','campaign_start_dow',\n",
    "         'campaign_end_day','campaign_end_dow','item_id',\n",
    "          'age_range','marital_status','family_size','no_of_children',\n",
    "         ]\n",
    "id_cols=['id']\n",
    "date_cols=['start_date','end_date']"
   ]
  },
  {
   "cell_type": "code",
   "execution_count": null,
   "metadata": {},
   "outputs": [],
   "source": [
    "df.head()"
   ]
  },
  {
   "cell_type": "code",
   "execution_count": null,
   "metadata": {},
   "outputs": [],
   "source": [
    "cat_inds=[df.columns.get_loc(i) for i in cat_cols]"
   ]
  },
  {
   "cell_type": "code",
   "execution_count": null,
   "metadata": {},
   "outputs": [],
   "source": [
    "from sklearn.model_selection import GroupKFold\n",
    "folds=GroupKFold(n_splits=5)\n",
    "temp=df[df.id.isin(train.id)]\n",
    "folds1=[(x,y) for x,y in  folds.split(temp,temp.merge(target,on='id').redemption_status,temp.coupon_id)]\n",
    "folds2=[(x,y) for x,y in  folds.split(temp,temp.merge(target,on='id').redemption_status,temp.campaign_id)]"
   ]
  },
  {
   "cell_type": "code",
   "execution_count": null,
   "metadata": {},
   "outputs": [],
   "source": [
    "fe=LabelEncoding(return_df=True,categorical_columns=cat_cols)\n",
    "df=fe.fit_transform(df)"
   ]
  },
  {
   "cell_type": "code",
   "execution_count": null,
   "metadata": {},
   "outputs": [],
   "source": [
    "use_cols=df.columns[~df.columns.isin(date_cols+id_cols)].tolist()"
   ]
  },
  {
   "cell_type": "code",
   "execution_count": null,
   "metadata": {},
   "outputs": [],
   "source": [
    "train_df=df[df.id.isin(train.id)]\n",
    "test_df=df[df.id.isin(test.id)]\n",
    "train_df.shape,test_df.shape"
   ]
  },
  {
   "cell_type": "code",
   "execution_count": null,
   "metadata": {},
   "outputs": [],
   "source": [
    "train_df=train_df.merge(target,on='id')"
   ]
  },
  {
   "cell_type": "code",
   "execution_count": null,
   "metadata": {},
   "outputs": [],
   "source": [
    "train_df.iloc[:,cat_inds].head()"
   ]
  },
  {
   "cell_type": "code",
   "execution_count": null,
   "metadata": {},
   "outputs": [],
   "source": [
    "from catboost import CatBoostClassifier"
   ]
  },
  {
   "cell_type": "code",
   "execution_count": null,
   "metadata": {},
   "outputs": [],
   "source": [
    "catb=CatBoostClassifier(eval_metric='AUC',learning_rate=0.03,iterations=10000,od_wait=400,random_state=100,\n",
    "                        cat_features=np.where(train_df[use_cols].columns.isin(cat_cols))[0].tolist())\n",
    "\n",
    "est_catb=Estimator(model=catb,n_jobs=-1,early_stopping_rounds=300,\n",
    "                   validation_scheme=folds1,\n",
    "                   random_state=100,\n",
    "                   categorical_features_indices=np.where(train_df[use_cols].columns.isin(cat_cols))[0].tolist())\n"
   ]
  },
  {
   "cell_type": "code",
   "execution_count": null,
   "metadata": {},
   "outputs": [],
   "source": [
    "oof=est_catb.fit_transform(train_df[use_cols].values,train_df['redemption_status'].values)"
   ]
  },
  {
   "cell_type": "code",
   "execution_count": null,
   "metadata": {
    "scrolled": true
   },
   "outputs": [],
   "source": [
    "est_catb.avg_cv_score "
   ]
  },
  {
   "cell_type": "code",
   "execution_count": null,
   "metadata": {},
   "outputs": [],
   "source": [
    "est_catb.feature_importance_df(train_df[use_cols].columns)"
   ]
  },
  {
   "cell_type": "code",
   "execution_count": null,
   "metadata": {},
   "outputs": [],
   "source": [
    "sub=pd.read_csv('../sample_submission_Byiv0dS.csv')"
   ]
  },
  {
   "cell_type": "code",
   "execution_count": null,
   "metadata": {
    "scrolled": true
   },
   "outputs": [],
   "source": [
    "preds=est_catb.predict_proba(test_df[use_cols].values)"
   ]
  },
  {
   "cell_type": "code",
   "execution_count": null,
   "metadata": {},
   "outputs": [],
   "source": [
    "pd.DataFrame({'id':train_df['id'],'redemption_status': oof}).to_csv('OOF_baseline_catb_grp_k_coup_more_feats.csv',index=False)"
   ]
  },
  {
   "cell_type": "code",
   "execution_count": null,
   "metadata": {},
   "outputs": [],
   "source": [
    "pd.DataFrame({'id':test_df['id'],'redemption_status': preds}).to_csv('baseline_catb_grp_k_coup_more_feats.csv',index=False)"
   ]
  }
 ],
 "metadata": {
  "kernelspec": {
   "display_name": "Python 3",
   "language": "python",
   "name": "python3"
  },
  "language_info": {
   "codemirror_mode": {
    "name": "ipython",
    "version": 3
   },
   "file_extension": ".py",
   "mimetype": "text/x-python",
   "name": "python",
   "nbconvert_exporter": "python",
   "pygments_lexer": "ipython3",
   "version": "3.5.2"
  }
 },
 "nbformat": 4,
 "nbformat_minor": 2
}
