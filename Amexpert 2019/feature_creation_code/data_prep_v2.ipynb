{
 "cells": [
  {
   "cell_type": "code",
   "execution_count": null,
   "metadata": {},
   "outputs": [],
   "source": [
    "import pandas as pd\n",
    "import numpy as np\n",
    "pd.options.display.max_rows=1000\n",
    "pd.options.display.max_columns=1000\n",
    "from multiprocessing import Pool"
   ]
  },
  {
   "cell_type": "code",
   "execution_count": null,
   "metadata": {},
   "outputs": [],
   "source": [
    "train=pd.read_csv('../train.csv')\n",
    "camp=pd.read_csv('../campaign_data.csv')\n",
    "trans=pd.read_csv('../customer_transaction_data.csv')\n",
    "cust=pd.read_csv('../customer_demographics.csv')\n",
    "coupon=pd.read_csv('../coupon_item_mapping.csv')\n",
    "item=pd.read_csv('../item_data.csv')\n",
    "camp.start_date=pd.to_datetime(camp.start_date,format='%d/%m/%y')\n",
    "camp.end_date=pd.to_datetime(camp.end_date,format='%d/%m/%y')\n",
    "test=pd.read_csv('../test_QyjYwdj.csv')"
   ]
  },
  {
   "cell_type": "code",
   "execution_count": null,
   "metadata": {},
   "outputs": [],
   "source": [
    "train.head()"
   ]
  },
  {
   "cell_type": "code",
   "execution_count": null,
   "metadata": {},
   "outputs": [],
   "source": [
    "def camp_feats(df):\n",
    "    df['camp_duration']=(df['end_date']-df['start_date']).dt.days\n",
    "    df['campaign_start_day']=df['start_date'].dt.day\n",
    "    df['campaign_start_dow']=df['start_date'].dt.dayofweek\n",
    "    df['campaign_end_day']=df['end_date'].dt.day\n",
    "    df['campaign_end_dow']=df['end_date'].dt.dayofweek\n",
    "    df=df.sort_values('start_date').reset_index(drop=True)\n",
    "    df['days_since_last_campaign_start']=(df.start_date-df.start_date.shift(1)).dt.days\n",
    "    df['days_since_last_campaign_end']=(df.end_date-df.end_date.shift(1)).dt.days\n",
    "    df['days_between_start_end_of_prev_campaign']=(df.start_date-df.end_date.shift(1)).dt.days\n",
    "    return df"
   ]
  },
  {
   "cell_type": "code",
   "execution_count": null,
   "metadata": {},
   "outputs": [],
   "source": [
    "camp=camp_feats(camp)"
   ]
  },
  {
   "cell_type": "code",
   "execution_count": null,
   "metadata": {},
   "outputs": [],
   "source": [
    "train=train.merge(camp,on='campaign_id',how='left')\n",
    "test=test.merge(camp,on='campaign_id',how='left')"
   ]
  },
  {
   "cell_type": "code",
   "execution_count": null,
   "metadata": {},
   "outputs": [],
   "source": [
    "coupon=coupon.merge(item,on='item_id')"
   ]
  },
  {
   "cell_type": "code",
   "execution_count": null,
   "metadata": {},
   "outputs": [],
   "source": [
    "coupon.head()"
   ]
  },
  {
   "cell_type": "code",
   "execution_count": null,
   "metadata": {},
   "outputs": [],
   "source": [
    "coupon_item_counts=coupon.groupby('coupon_id')['item_id'].nunique().to_dict()\n",
    "coupon_brand_counts=coupon.groupby('coupon_id')['brand'].nunique().to_dict()\n",
    "coupon_category_counts=coupon.groupby('coupon_id')['category'].nunique().to_dict()\n",
    "item_coupon_counts=coupon.groupby('item_id')['coupon_id'].nunique().to_dict()\n",
    "brand_coupon_counts=coupon.groupby('brand')['coupon_id'].nunique().to_dict()\n",
    "category_coupon_counts=coupon.groupby('category')['coupon_id'].nunique().to_dict()"
   ]
  },
  {
   "cell_type": "code",
   "execution_count": null,
   "metadata": {},
   "outputs": [],
   "source": [
    "item['num_coupons_per_item']=item.item_id.map(item_coupon_counts)\n",
    "item.num_coupons_per_item=item.num_coupons_per_item.fillna(0)\n",
    "item['num_coupons_per_brand']=item.brand.map(brand_coupon_counts)\n",
    "item.num_coupons_per_brand=item.num_coupons_per_brand.fillna(0)\n",
    "item['num_coupons_per_category']=item.category.map(category_coupon_counts)\n",
    "item.num_coupons_per_category=item.num_coupons_per_category.fillna(0)"
   ]
  },
  {
   "cell_type": "code",
   "execution_count": null,
   "metadata": {},
   "outputs": [],
   "source": [
    "item['num_items_per_brand']=item.brand.map(item.groupby('brand')['item_id'].nunique().to_dict())\n",
    "item['num_items_per_category']=item.category.map(item.groupby('category')['item_id'].nunique().to_dict())"
   ]
  },
  {
   "cell_type": "code",
   "execution_count": null,
   "metadata": {},
   "outputs": [],
   "source": [
    "item.head()"
   ]
  },
  {
   "cell_type": "code",
   "execution_count": null,
   "metadata": {},
   "outputs": [],
   "source": [
    "trans=trans.merge(item,on='item_id')"
   ]
  },
  {
   "cell_type": "code",
   "execution_count": null,
   "metadata": {},
   "outputs": [],
   "source": [
    "trans['price_after_OD']=trans['selling_price']-trans['other_discount']\n",
    "trans['cost_price']=trans['price_after_OD']-trans['coupon_discount']\n",
    "trans['date']=pd.to_datetime(trans['date'])\n",
    "trans.sort_values('date',inplace=True)\n",
    "trans['coupon_redeemed']=(trans['coupon_discount']<0).astype('int')"
   ]
  },
  {
   "cell_type": "code",
   "execution_count": null,
   "metadata": {},
   "outputs": [],
   "source": [
    "trans.head()"
   ]
  },
  {
   "cell_type": "code",
   "execution_count": null,
   "metadata": {},
   "outputs": [],
   "source": [
    "trans['selling_price_ewm']=trans.groupby('customer_id')['selling_price'].apply(lambda x: x.ewm(halflife=2).mean())\n",
    "trans['other_discount_ewm']=trans.groupby('customer_id')['other_discount'].apply(lambda x: x.ewm(halflife=2).mean())\n",
    "trans['coupon_discount_ewm']=trans.groupby('customer_id')['coupon_discount'].apply(lambda x: x.ewm(halflife=2).mean())\n",
    "trans['price_after_OD_ewm']=trans.groupby('customer_id')['price_after_OD'].apply(lambda x: x.ewm(halflife=2).mean())\n",
    "trans['cost_price_ewm']=trans.groupby('customer_id')['cost_price'].apply(lambda x: x.ewm(halflife=2).mean())\n",
    "trans['coupon_redeemed_ewm']=trans.groupby('customer_id')['coupon_redeemed'].apply(lambda x: x.ewm(halflife=2).mean())"
   ]
  },
  {
   "cell_type": "code",
   "execution_count": null,
   "metadata": {},
   "outputs": [],
   "source": [
    "trans[trans.item_id==26830]"
   ]
  },
  {
   "cell_type": "code",
   "execution_count": null,
   "metadata": {},
   "outputs": [],
   "source": [
    "def return_stats(x):\n",
    "    return [x.mean(),x.sum(),x.std(),x.max()]"
   ]
  },
  {
   "cell_type": "code",
   "execution_count": null,
   "metadata": {},
   "outputs": [],
   "source": [
    "df=pd.concat((train,test),axis=0)"
   ]
  },
  {
   "cell_type": "code",
   "execution_count": null,
   "metadata": {},
   "outputs": [],
   "source": [
    "temp=df[['customer_id','start_date','coupon_id','id']]"
   ]
  },
  {
   "cell_type": "code",
   "execution_count": null,
   "metadata": {},
   "outputs": [],
   "source": [
    "def get_feats(temp):\n",
    "    return [temp.shape[0],temp.item_id.nunique(),temp.brand.nunique(),temp.category.nunique(),temp.item_id.mode()[0]]+\\\n",
    "return_stats(temp.quantity)+return_stats(temp.selling_price)+return_stats(temp.other_discount)+return_stats(temp['coupon_redeemed'])+\\\n",
    "return_stats(temp.coupon_discount)+return_stats(temp.num_coupons_per_brand)+\\\n",
    "return_stats(temp.num_coupons_per_category)+return_stats(temp.num_coupons_per_item)+return_stats(temp.cost_price)+\\\n",
    "return_stats(temp.selling_price_ewm)+return_stats(temp.other_discount_ewm)+return_stats(temp.coupon_discount_ewm)+\\\n",
    "return_stats(temp.price_after_OD_ewm)+return_stats(temp.cost_price_ewm)+return_stats(temp.coupon_redeemed_ewm)"
   ]
  },
  {
   "cell_type": "code",
   "execution_count": null,
   "metadata": {},
   "outputs": [],
   "source": [
    "%%time\n",
    "def get_feat(row):\n",
    "    data_=row[1]\n",
    "    temp=trans[(trans.customer_id==data_['customer_id'])&(trans.date<data_['start_date'])]\n",
    "    \n",
    "    if temp.shape[0]>0:\n",
    "        feats=[data_.id]+get_feats(temp)\n",
    "    else:\n",
    "        feats=[data_.id]+np.repeat(0,65).tolist()\n",
    "    return feats\n",
    "\n",
    "try:\n",
    "    pool = Pool(16) \n",
    "    data_outputs = pool.map(get_feat, temp.iterrows())\n",
    "finally: \n",
    "    pool.close()\n",
    "    pool.join()\n",
    "cols=[(x+'_mean',x+'_sum',x+'_std',x+'_max') for x in\n",
    "    ['qty','sp','od','coupon_redeemed','cd','num_coupons_per_brand','num_coupons_per_category','num_coupons_per_item','cost_price',\n",
    "'selling_price_ewm','other_discount_ewm','coupon_discount_ewm','price_after_OD_ewm','cost_price_ewm','coupon_redeemed_ewm']]\n",
    "cols=['id','trans_shape','unique_item','unique_brand','unique_category','item_id']+[x for t in cols for x in t]    \n",
    "cust_hist=pd.DataFrame(np.row_stack(data_outputs),columns=cols)"
   ]
  },
  {
   "cell_type": "code",
   "execution_count": null,
   "metadata": {},
   "outputs": [],
   "source": [
    "cust_hist.shape"
   ]
  },
  {
   "cell_type": "code",
   "execution_count": null,
   "metadata": {},
   "outputs": [],
   "source": [
    "train=train.merge(cust_hist,on='id')\n",
    "test=test.merge(cust_hist,on='id')"
   ]
  },
  {
   "cell_type": "code",
   "execution_count": null,
   "metadata": {},
   "outputs": [],
   "source": [
    "train.shape"
   ]
  },
  {
   "cell_type": "code",
   "execution_count": null,
   "metadata": {},
   "outputs": [],
   "source": [
    "train=train.merge(cust,on='customer_id',how='left')\n",
    "test=test.merge(cust,on='customer_id',how='left')"
   ]
  },
  {
   "cell_type": "code",
   "execution_count": null,
   "metadata": {},
   "outputs": [],
   "source": [
    "train.shape,test.shape"
   ]
  },
  {
   "cell_type": "code",
   "execution_count": null,
   "metadata": {},
   "outputs": [],
   "source": [
    "train.to_pickle('../train_v2.pkl')\n",
    "test.to_pickle('../test_v2.pkl')"
   ]
  }
 ],
 "metadata": {
  "kernelspec": {
   "display_name": "Python 3",
   "language": "python",
   "name": "python3"
  },
  "language_info": {
   "codemirror_mode": {
    "name": "ipython",
    "version": 3
   },
   "file_extension": ".py",
   "mimetype": "text/x-python",
   "name": "python",
   "nbconvert_exporter": "python",
   "pygments_lexer": "ipython3",
   "version": "3.5.2"
  }
 },
 "nbformat": 4,
 "nbformat_minor": 2
}
